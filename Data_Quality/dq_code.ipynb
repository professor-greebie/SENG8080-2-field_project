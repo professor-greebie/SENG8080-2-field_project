{
 "cells": [
  {
   "cell_type": "code",
   "execution_count": 1,
   "metadata": {},
   "outputs": [
    {
     "name": "stdout",
     "output_type": "stream",
     "text": [
      "Hello World\n"
     ]
    }
   ],
   "source": [
    "import pandas as pd\n",
    "import numpy as np\n",
    "import pyranges as pr"
   ]
  },
  {
   "cell_type": "code",
   "execution_count": null,
   "metadata": {},
   "outputs": [],
   "source": [
    "\n",
    "gr = pr.read_gtf('D:\\ClassNotes\\Sem2\\Case Study\\Project\\dipOrd1.ensGene.gtf\\dipOrd1.ensGene.gtf')\n",
    "df = gr.df\n",
    "df.head(10)"
   ]
  },
  {
   "cell_type": "code",
   "execution_count": null,
   "metadata": {},
   "outputs": [],
   "source": [
    "#Checking if 'Source' column contains any value other than 'ensGene'\n",
    "unique_values = df['Source'].unique()\n",
    "print(unique_values)"
   ]
  },
  {
   "cell_type": "code",
   "execution_count": null,
   "metadata": {},
   "outputs": [],
   "source": [
    "#Dropping 'Source' Column as it has only one value 'ensGene'\n",
    "df.drop('Source', axis=1, inplace=True)\n",
    "df.head(10)"
   ]
  },
  {
   "cell_type": "code",
   "execution_count": null,
   "metadata": {},
   "outputs": [],
   "source": [
    "#Checking if the score has any value other than floating point\n",
    "unique_score = df['Score'].unique()\n",
    "print(\"Score:\", unique_score)\n",
    "#Checking if strand has any value other than '+' or '-'\n",
    "unique_strands = df['Strand'].unique()\n",
    "print(\"Stands:\", unique_strands)\n",
    "#Checking if Frame has any value other than '.', '1', '2' or '0'\n",
    "unique_frame = df['Frame'].unique()\n",
    "print(\"Frame:\", unique_frame)"
   ]
  }
 ],
 "metadata": {
  "kernelspec": {
   "display_name": "Python 3",
   "language": "python",
   "name": "python3"
  },
  "language_info": {
   "codemirror_mode": {
    "name": "ipython",
    "version": 3
   },
   "file_extension": ".py",
   "mimetype": "text/x-python",
   "name": "python",
   "nbconvert_exporter": "python",
   "pygments_lexer": "ipython3",
   "version": "3.11.2"
  },
  "orig_nbformat": 4
 },
 "nbformat": 4,
 "nbformat_minor": 2
}
